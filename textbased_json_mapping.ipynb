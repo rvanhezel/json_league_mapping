{
 "cells": [
  {
   "cell_type": "code",
   "execution_count": 1,
   "metadata": {},
   "outputs": [],
   "source": [
    "import pandas as pd\n",
    "import os\n",
    "import json\n",
    "from sklearn.feature_extraction.text import TfidfVectorizer\n",
    "from sklearn.metrics.pairwise import cosine_similarity\n",
    "\n",
    "\n",
    "folder = \"C:/Users/raoul/Documents/UpworkProjects/json_league_mapping\"\n",
    "\n",
    "underdog_file_path = os.path.join(folder, \"underdog.json\")\n",
    "prize_file_path = os.path.join(folder, \"prizepick.json\")\n",
    "\n",
    "\n",
    "# Load data from JSON files\n",
    "with open(underdog_file_path, \"r\") as f:\n",
    "    underdog_data = json.load(f)\n",
    "\n",
    "with open(prize_file_path, \"r\") as f:\n",
    "    prizepick_data = json.load(f)"
   ]
  },
  {
   "cell_type": "code",
   "execution_count": 2,
   "metadata": {},
   "outputs": [
    {
     "name": "stdout",
     "output_type": "stream",
     "text": [
      "{'DOTA2', 'NASCAR_SZN', 'CBB', 'LOL', 'TGL'}\n"
     ]
    }
   ],
   "source": [
    "#Check underdog keys missing in Prizes \n",
    "print(set(underdog_data.keys()) - (set(prizepick_data.keys())))"
   ]
  },
  {
   "cell_type": "code",
   "execution_count": 3,
   "metadata": {},
   "outputs": [],
   "source": [
    "# Fucntion to standardize stat_types\n",
    "def normalize_stat_type(stat_type):\n",
    "    stat_type = stat_type.lower()\n",
    "    stat_type = ''.join(ch for ch in stat_type if ch.isalnum() or ch.isspace())\n",
    "    return stat_type"
   ]
  },
  {
   "cell_type": "code",
   "execution_count": 5,
   "metadata": {},
   "outputs": [
    {
     "name": "stdout",
     "output_type": "stream",
     "text": [
      "League: NFL, Underdog: Longest Rush -> Prizepick: Longest Rush\n",
      "League: NFL, Underdog: Longest Reception -> Prizepick: Longest Reception\n",
      "League: NFL, Underdog: Receiving Yards -> Prizepick: Receiving Yards\n",
      "League: NFL, Underdog: Pass + Rush Yards -> Prizepick: Pass Yards\n",
      "League: NFL, Underdog: Kicking Points -> Prizepick: Kicking Points\n",
      "League: NFL, Underdog: Sacks Taken -> Prizepick: Sacks Taken\n",
      "League: NFL, Underdog: Receptions -> Prizepick: Receptions\n",
      "League: NFL, Underdog: FG Made -> Prizepick: FG Made\n",
      "League: NBA, Underdog: Assists -> Prizepick: Assists\n",
      "League: NBA, Underdog: Points -> Prizepick: Points\n",
      "League: NBA, Underdog: Rebounds -> Prizepick: Rebounds\n",
      "League: NBA, Underdog: 3-Pointers Made -> Prizepick: 3-PT Made\n",
      "League: NBA, Underdog: Steals -> Prizepick: Steals\n",
      "League: NBA, Underdog: Turnovers -> Prizepick: Turnovers\n",
      "League: CFB, Underdog: Longest Rush -> Prizepick: Longest Rush\n",
      "League: CFB, Underdog: Longest Reception -> Prizepick: Longest Reception\n",
      "League: CFB, Underdog: Receiving Yards -> Prizepick: Receiving Yards\n",
      "League: CFB, Underdog: Pass + Rush Yards -> Prizepick: Pass Yards\n",
      "League: CFB, Underdog: Kicking Points -> Prizepick: Kicking Points\n",
      "League: CFB, Underdog: Receptions -> Prizepick: Receptions\n",
      "League: CFB, Underdog: FG Made -> Prizepick: FG Made\n",
      "CBB not in Prize file\n",
      "League: NHL, Underdog: Points -> Prizepick: Points\n",
      "League: NHL, Underdog: Time on Ice -> Prizepick: Time On Ice\n",
      "League: NHL, Underdog: Blocked Shots -> Prizepick: Blocked Shots\n",
      "League: NHL, Underdog: Goals -> Prizepick: Goals\n",
      "League: NHL, Underdog: Assists -> Prizepick: Assists\n",
      "League: NHL, Underdog: Hits -> Prizepick: Hits\n",
      "League: TENNIS, Underdog: Aces -> Prizepick: Aces\n",
      "LOL not in Prize file\n",
      "League: CS2, Underdog: Kills on Maps 1+2 -> Prizepick: MAPS 1-2 Kills\n",
      "League: CS2, Underdog: Headshots on Map 1 -> Prizepick: MAP 1 Headshots\n",
      "League: CS2, Underdog: Kills on Map 1 -> Prizepick: MAP 1 Kills\n",
      "League: CS2, Underdog: Headshots on Maps 1+2 -> Prizepick: MAPS 1-2 Headshots\n",
      "DOTA2 not in Prize file\n",
      "League: SOCCER, Underdog: Fouls -> Prizepick: Fouls\n",
      "League: SOCCER, Underdog: Goals -> Prizepick: Goals\n",
      "League: SOCCER, Underdog: Goals Allowed -> Prizepick: Goals Allowed\n",
      "League: SOCCER, Underdog: Shots on Target -> Prizepick: Shots On Target\n",
      "League: SOCCER, Underdog: Tackles -> Prizepick: Tackles\n",
      "League: SOCCER, Underdog: Assists -> Prizepick: Assists\n",
      "TGL not in Prize file\n",
      "League: MLBSZN, Underdog: Home Runs -> Prizepick: Home Runs\n",
      "NASCAR_SZN not in Prize file\n"
     ]
    }
   ],
   "source": [
    "# Extract stat_type values\n",
    "similarity_threshold = 0.8  # Adjust as needed\n",
    "\n",
    "for league_name, current_underdog_data in underdog_data.items():\n",
    "\n",
    "    if league_name not in list(prizepick_data.keys()):\n",
    "        print(f\"{league_name} not in Prize file\")\n",
    "        continue\n",
    "    \n",
    "    underdog_stats = set()\n",
    "    for match in current_underdog_data:\n",
    "        for stat in match[\"stats\"]:\n",
    "            underdog_stats.add(stat[\"stat_type\"])\n",
    "\n",
    "    prizepick_stats = set()\n",
    "    for match in prizepick_data[league_name]:\n",
    "        for stat in match[\"stats\"]:\n",
    "            prizepick_stats.add(stat[\"stat_type\"])\n",
    "\n",
    "    # Calculate similarity and map values\n",
    "    vectorizer = TfidfVectorizer()\n",
    "    all_stats = underdog_stats.union(prizepick_stats)\n",
    "    tfidf_matrix = vectorizer.fit_transform(all_stats)\n",
    "\n",
    "    stat_type_mapping = {}\n",
    "    for underdog_stat in underdog_stats:\n",
    "        underdog_stat_norm = normalize_stat_type(underdog_stat)\n",
    "        underdog_vector = vectorizer.transform([underdog_stat_norm])\n",
    "\n",
    "        for prizepick_stat in prizepick_stats:\n",
    "            prizepick_stat_norm = normalize_stat_type(prizepick_stat)\n",
    "            prizepick_vector = vectorizer.transform([prizepick_stat_norm])\n",
    "\n",
    "            similarity = cosine_similarity(underdog_vector, prizepick_vector)[0][0]\n",
    "            if similarity >= similarity_threshold:\n",
    "                stat_type_mapping[underdog_stat] = prizepick_stat\n",
    "                break \n",
    "\n",
    "    for underdog_stat, prizepick_stat in stat_type_mapping.items():\n",
    "        print(f\"League: {league_name}, Underdog: {underdog_stat} -> Prizepick: {prizepick_stat}\")\n"
   ]
  }
 ],
 "metadata": {
  "kernelspec": {
   "display_name": "base",
   "language": "python",
   "name": "python3"
  },
  "language_info": {
   "codemirror_mode": {
    "name": "ipython",
    "version": 3
   },
   "file_extension": ".py",
   "mimetype": "text/x-python",
   "name": "python",
   "nbconvert_exporter": "python",
   "pygments_lexer": "ipython3",
   "version": "3.12.4"
  }
 },
 "nbformat": 4,
 "nbformat_minor": 2
}
